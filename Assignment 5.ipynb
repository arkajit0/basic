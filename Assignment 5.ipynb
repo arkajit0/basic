{
 "cells": [
  {
   "cell_type": "markdown",
   "metadata": {},
   "source": [
    "#### Problem 1\n",
    "Write a Python Program to Find LCM?"
   ]
  },
  {
   "cell_type": "code",
   "execution_count": 28,
   "metadata": {},
   "outputs": [
    {
     "name": "stdout",
     "output_type": "stream",
     "text": [
      "Enter a number ::4\n",
      "Enter a number ::6\n",
      "The L.C.M of 4 and 6 is 12\n",
      "want to check again ? type yes else press any key:: yes\n",
      "Enter a number ::54\n",
      "Enter a number ::24\n",
      "The L.C.M of 54 and 24 is 216\n",
      "want to check again ? type yes else press any key:: no\n"
     ]
    }
   ],
   "source": [
    "while 1:\n",
    "    num1 = int(input(\"Enter a number ::\"))\n",
    "    num2 = int(input(\"Enter a number ::\"))\n",
    "\n",
    "    if num1>num2:\n",
    "        greater = num1\n",
    "    else:\n",
    "        greater = num2\n",
    "\n",
    "    while True:\n",
    "        if (greater%num1) == 0 and (greater%num2 == 0):\n",
    "            lcm = greater\n",
    "            break\n",
    "        greater+=1\n",
    "    print(\"The L.C.M of {} and {} is {}\".format(num1, num2, lcm))\n",
    "    \n",
    "    repeat = input(\"want to check again ? type yes else press any key:: \")\n",
    "    if repeat == 'yes':\n",
    "            1                    #repeating the while loop\n",
    "    else:\n",
    "        break                    #exit from loop"
   ]
  },
  {
   "cell_type": "markdown",
   "metadata": {},
   "source": [
    "#### Problem 2\n",
    "Write a Python Program to Find HCF?"
   ]
  },
  {
   "cell_type": "code",
   "execution_count": 30,
   "metadata": {},
   "outputs": [
    {
     "name": "stdout",
     "output_type": "stream",
     "text": [
      "Enter a number ::54\n",
      "Enter a number ::24\n",
      "The H.C.F of 54 and 24 is 6\n",
      "want to check again ? type yes else press any key:: yes\n",
      "Enter a number ::5\n",
      "Enter a number ::7\n",
      "The H.C.F of 5 and 7 is 1\n",
      "want to check again ? type yes else press any key:: no\n"
     ]
    }
   ],
   "source": [
    "while 1:\n",
    "    num1 = int(input(\"Enter a number ::\"))\n",
    "    num2 = int(input(\"Enter a number ::\"))\n",
    "\n",
    "    if num1>num2:\n",
    "        smaller = num2\n",
    "    else:\n",
    "        smaller = num1\n",
    "\n",
    "    for num in range(1, smaller+1):\n",
    "        if (num1%num) == 0 and (num2%num == 0):\n",
    "            hcf = num\n",
    "\n",
    "    print(\"The H.C.F of {} and {} is {}\".format(num1, num2, hcf))\n",
    "    \n",
    "    repeat = input(\"want to check again ? type yes else press any key:: \")\n",
    "    if repeat == 'yes':\n",
    "            1                    #repeating the while loop\n",
    "    else:\n",
    "        break                    #exit from loop"
   ]
  },
  {
   "cell_type": "markdown",
   "metadata": {},
   "source": [
    "#### Problem 3\n",
    "Write a Python Program to Convert Decimal to Binary, Octal and Hexadecimal?"
   ]
  },
  {
   "cell_type": "code",
   "execution_count": 31,
   "metadata": {},
   "outputs": [
    {
     "name": "stdout",
     "output_type": "stream",
     "text": [
      "Enter a number ::45\n",
      "0b101101 in binary\n",
      "0o55 in octal\n",
      "0x2d in hexadecimal\n"
     ]
    }
   ],
   "source": [
    "num = int(input(\"Enter a number ::\"))\n",
    "\n",
    "print(bin(num),\"in binary\")\n",
    "print(oct(num), \"in octal\")\n",
    "print(hex(num), \"in hexadecimal\")"
   ]
  },
  {
   "cell_type": "markdown",
   "metadata": {},
   "source": [
    "#### Problem 4\n",
    "Write a Python Program To Find ASCII value of a character?"
   ]
  },
  {
   "cell_type": "code",
   "execution_count": 34,
   "metadata": {},
   "outputs": [
    {
     "name": "stdout",
     "output_type": "stream",
     "text": [
      "Enter a charater ::e\n",
      "The ASCII value of 'e' is 101\n"
     ]
    }
   ],
   "source": [
    "num = input(\"Enter a charater ::\")\n",
    "\n",
    "print(\"The ASCII value of '\" + num + \"' is\", ord(num))"
   ]
  },
  {
   "cell_type": "markdown",
   "metadata": {},
   "source": [
    "#### Problem 5\n",
    "Write a Python Program to Make a Simple Calculator with 4 basic mathematical operations?"
   ]
  },
  {
   "cell_type": "code",
   "execution_count": 40,
   "metadata": {},
   "outputs": [
    {
     "name": "stdout",
     "output_type": "stream",
     "text": [
      "Select Operation::\n",
      " 1.Addition \n",
      " 2.Subtraction \n",
      " 3.Division \n",
      " 4.Multiplication \n",
      "\n",
      "Enter the operation ::5\n",
      "\n",
      " Select a valied operator \n",
      "\n",
      "Select Operation::\n",
      " 1.Addition \n",
      " 2.Subtraction \n",
      " 3.Division \n",
      " 4.Multiplication \n",
      "\n",
      "Enter the operation ::1\n",
      "Enter a number ::2\n",
      "Enter a number ::3\n",
      "The addition of 2 and 3 is 5\n",
      "want to check again ? type yes else press any key:: yes\n",
      "Select Operation::\n",
      " 1.Addition \n",
      " 2.Subtraction \n",
      " 3.Division \n",
      " 4.Multiplication \n",
      "\n",
      "Enter the operation ::2\n",
      "Enter a number ::6\n",
      "Enter a number ::2\n",
      "The subtraction of 6 and 2 is 4\n",
      "want to check again ? type yes else press any key:: yes\n",
      "Select Operation::\n",
      " 1.Addition \n",
      " 2.Subtraction \n",
      " 3.Division \n",
      " 4.Multiplication \n",
      "\n",
      "Enter the operation ::3\n",
      "Enter a number ::4\n",
      "Enter a number ::2\n",
      "The division of 4 and 2 is 2.0\n",
      "want to check again ? type yes else press any key:: yes\n",
      "Select Operation::\n",
      " 1.Addition \n",
      " 2.Subtraction \n",
      " 3.Division \n",
      " 4.Multiplication \n",
      "\n",
      "Enter the operation ::4\n",
      "Enter a number ::4\n",
      "Enter a number ::2\n",
      "The multiplication of 4 and 2 is 8\n",
      "want to check again ? type yes else press any key:: no\n"
     ]
    }
   ],
   "source": [
    "#addition\n",
    "def addition(num1,num2):\n",
    "    return num1+num2\n",
    "\n",
    "#subtraction\n",
    "def subtraction(num1, num2):\n",
    "    return num1-num2\n",
    "\n",
    "#division\n",
    "def division(num1, num2):\n",
    "    return num1/num2\n",
    "\n",
    "#multiplication\n",
    "def multiplication(num1, num2):\n",
    "    return num1*num2\n",
    "\n",
    "while 1:\n",
    "    print(\"Select Operation::\\n 1.Addition \\n 2.Subtraction \\n 3.Division \\n 4.Multiplication \\n\")\n",
    "    operator = int(input(\"Enter the operation ::\"))\n",
    "\n",
    "    operator_dict = {1: (addition, \"addition\"), 2: (subtraction, \"subtraction\"), 3: (division, \"division\"), 4: (multiplication, \"multiplication\")}\n",
    "\n",
    "    if operator not in operator_dict.keys():\n",
    "        print(\"\\n Select a valied operator \\n\")\n",
    "        1\n",
    "    else:\n",
    "        number_1 = int(input(\"Enter a number ::\"))\n",
    "        number_2 = int(input(\"Enter a number ::\"))\n",
    "        \n",
    "        value = operator_dict[operator][0](number_1, number_2)\n",
    "        print(\"The {} of {} and {} is {}\".format(str(operator_dict[operator][1]), number_1, number_2, value))\n",
    "    \n",
    "        repeat = input(\"want to check again ? type yes else press any key:: \")\n",
    "        if repeat == 'yes':\n",
    "                1                    #repeating the while loop\n",
    "        else:\n",
    "            break                    #exit from loop"
   ]
  }
 ],
 "metadata": {
  "kernelspec": {
   "display_name": "Python 3",
   "language": "python",
   "name": "python3"
  },
  "language_info": {
   "codemirror_mode": {
    "name": "ipython",
    "version": 3
   },
   "file_extension": ".py",
   "mimetype": "text/x-python",
   "name": "python",
   "nbconvert_exporter": "python",
   "pygments_lexer": "ipython3",
   "version": "3.7.7"
  }
 },
 "nbformat": 4,
 "nbformat_minor": 4
}
