{
 "cells": [
  {
   "cell_type": "markdown",
   "metadata": {},
   "source": [
    "#### Problem 1\n",
    "Write a Python Program to Find the Factorial of a Number?"
   ]
  },
  {
   "cell_type": "code",
   "execution_count": 9,
   "metadata": {},
   "outputs": [
    {
     "name": "stdout",
     "output_type": "stream",
     "text": [
      "Enter a number ::5\n",
      "factorial of 5 is 120\n",
      "want to check again ? type yes else press any key:: yes\n",
      "Enter a number ::7\n",
      "factorial of 7 is 5040\n",
      "want to check again ? type yes else press any key:: yes\n",
      "Enter a number ::6\n",
      "factorial of 6 is 720\n",
      "want to check again ? type yes else press any key:: no\n"
     ]
    }
   ],
   "source": [
    "def fact(n):\n",
    "    if n>1:\n",
    "        result = n*fact(n-1)\n",
    "    else:\n",
    "        result = n\n",
    "    return result\n",
    "\n",
    "while 1:\n",
    "    num = int(input(\"Enter a number ::\"))\n",
    "    print(\"factorial of {} is {}\".format(num, fact(num)))\n",
    "    \n",
    "    repeat = input(\"want to check again ? type yes else press any key:: \")\n",
    "    if repeat == 'yes':\n",
    "            1                    #repeating the while loop\n",
    "    else:\n",
    "        break                    #exit from loop"
   ]
  },
  {
   "cell_type": "markdown",
   "metadata": {},
   "source": [
    "#### Problem 2\n",
    "Write a Python Program to Display the multiplication Table?"
   ]
  },
  {
   "cell_type": "code",
   "execution_count": 10,
   "metadata": {},
   "outputs": [
    {
     "name": "stdout",
     "output_type": "stream",
     "text": [
      "Enter a number ::6\n",
      "Enter the limit of multiplication ::12\n",
      "6 x 1 = 6\n",
      "6 x 2 = 12\n",
      "6 x 3 = 18\n",
      "6 x 4 = 24\n",
      "6 x 5 = 30\n",
      "6 x 6 = 36\n",
      "6 x 7 = 42\n",
      "6 x 8 = 48\n",
      "6 x 9 = 54\n",
      "6 x 10 = 60\n",
      "6 x 11 = 66\n",
      "6 x 12 = 72\n"
     ]
    }
   ],
   "source": [
    "num = int(input(\"Enter a number ::\"))\n",
    "multiple = int(input(\"Enter the limit of multiplication ::\"))\n",
    "\n",
    "for numb in range(1, multiple+1):\n",
    "    print(\"{} x {} = {}\".format(num, numb, num*numb))"
   ]
  },
  {
   "cell_type": "markdown",
   "metadata": {},
   "source": [
    "#### Problem 3\n",
    "Write a Python Program to Print the Fibonacci sequence?"
   ]
  },
  {
   "cell_type": "code",
   "execution_count": 18,
   "metadata": {},
   "outputs": [
    {
     "name": "stdout",
     "output_type": "stream",
     "text": [
      "Enter term number ::10\n",
      "Fibonacci sequence upto 10 :\n",
      "{0, 1, 1, 2, 3, 5, 8, 13, 21, 34}\n"
     ]
    }
   ],
   "source": [
    "nterms = int(input(\"Enter term number ::\"))\n",
    "\n",
    "a, b, count = 0, 1, 0\n",
    "empty_list = []\n",
    "\n",
    "if nterms <= 0:\n",
    "    print(\"enter a positive integer\")\n",
    "elif nterms == 1:\n",
    "    print(\"Fibonacci sequence upto\",nterms,\":\")\n",
    "    print(n1)\n",
    "else:\n",
    "    print(\"Fibonacci sequence upto\",nterms,\":\")\n",
    "    while count<nterms:\n",
    "        empty_list.append(a)\n",
    "        nth = a+b\n",
    "        a = b\n",
    "        b = nth\n",
    "        count+=1\n",
    "    print(\"{\" + (str(empty_list)[1:-1]) + \"}\")"
   ]
  },
  {
   "cell_type": "markdown",
   "metadata": {},
   "source": [
    "#### Problem 4\n",
    "Write a Python Program to Check Armstrong Number?"
   ]
  },
  {
   "cell_type": "code",
   "execution_count": 5,
   "metadata": {},
   "outputs": [
    {
     "name": "stdout",
     "output_type": "stream",
     "text": [
      "Enter a number ::370\n",
      "370 is an Armstrong Number\n",
      "want to check again ? type yes else press any key:: yes\n",
      "Enter a number ::153\n",
      "153 is an Armstrong Number\n",
      "want to check again ? type yes else press any key:: yes\n",
      "Enter a number ::134\n",
      "134 is not an Armstrong Number\n",
      "want to check again ? type yes else press any key:: no\n"
     ]
    }
   ],
   "source": [
    "while 1:\n",
    "    num = int(input(\"Enter a number ::\"))\n",
    "    \n",
    "    order = len(str(num))\n",
    "    \n",
    "    sum_total = 0\n",
    "\n",
    "    temp = num\n",
    "\n",
    "    while temp>0:\n",
    "        digit = temp%10\n",
    "        sum_total += digit**order\n",
    "        temp //= 10\n",
    "\n",
    "    if num == sum_total:\n",
    "        print(\"{} is an Armstrong Number\".format(num))\n",
    "    else:\n",
    "        print(\"{} is not an Armstrong Number\".format(num))\n",
    "        \n",
    "    repeat = input(\"want to check again ? type yes else press any key:: \")\n",
    "    if repeat == 'yes':\n",
    "            1                    #repeating the while loop\n",
    "    else:\n",
    "        break                    #exit from loop"
   ]
  },
  {
   "cell_type": "markdown",
   "metadata": {},
   "source": [
    "#### Problem 5\n",
    "Write a Python Program to Find Armstrong Number in an Interval?"
   ]
  },
  {
   "cell_type": "code",
   "execution_count": 6,
   "metadata": {},
   "outputs": [
    {
     "name": "stdout",
     "output_type": "stream",
     "text": [
      "Enter starting number ::100\n",
      "Enter Ending number ::500\n",
      "153 is an Armstrong Number\n",
      "370 is an Armstrong Number\n",
      "371 is an Armstrong Number\n",
      "407 is an Armstrong Number\n",
      "want to check again ? type yes else press any key:: no\n"
     ]
    }
   ],
   "source": [
    "while 1:   \n",
    "    lower_limit = int(input(\"Enter starting number ::\"))\n",
    "    upper_limit = int(input(\"Enter Ending number ::\"))\n",
    "\n",
    "    for num in range(lower_limit, upper_limit+1):\n",
    "        order = len(str(num))\n",
    "\n",
    "        sum_total = 0\n",
    "\n",
    "        temp = num\n",
    "\n",
    "        while temp>0:\n",
    "            digit = temp%10\n",
    "            sum_total += digit**order\n",
    "            temp //= 10\n",
    "\n",
    "        if num == sum_total:\n",
    "            print(\"{} is an Armstrong Number\".format(num))\n",
    "    #     else:\n",
    "    #         print(\"{} is not an Armstrong Number\".format(num))\n",
    "\n",
    "    repeat = input(\"want to check again ? type yes else press any key:: \")\n",
    "    if repeat == 'yes':\n",
    "            1                    #repeating the while loop\n",
    "    else:\n",
    "        break                    #exit from loop"
   ]
  },
  {
   "cell_type": "markdown",
   "metadata": {},
   "source": [
    "#### Problem 6\n",
    "Write a Python Program to Find the Sum of Natural Numbers?"
   ]
  },
  {
   "cell_type": "code",
   "execution_count": 8,
   "metadata": {},
   "outputs": [
    {
     "name": "stdout",
     "output_type": "stream",
     "text": [
      "Enter term number ::5\n",
      "The sum of 5 natural number is 15.0\n",
      "want to check again ? type yes else press any key:: yes\n",
      "Enter term number ::10\n",
      "The sum of 10 natural number is 55.0\n",
      "want to check again ? type yes else press any key:: no\n"
     ]
    }
   ],
   "source": [
    "while 1:\n",
    "    nterms = int(input(\"Enter term number ::\"))\n",
    "\n",
    "    sum_value = nterms*(nterms+1)/2\n",
    "\n",
    "    print(\"The sum of {} natural number is {}\".format(nterms, sum_value))\n",
    "    \n",
    "    repeat = input(\"want to check again ? type yes else press any key:: \")\n",
    "    if repeat == 'yes':\n",
    "            1                    #repeating the while loop\n",
    "    else:\n",
    "        break                    #exit from loop"
   ]
  }
 ],
 "metadata": {
  "kernelspec": {
   "display_name": "Python 3",
   "language": "python",
   "name": "python3"
  },
  "language_info": {
   "codemirror_mode": {
    "name": "ipython",
    "version": 3
   },
   "file_extension": ".py",
   "mimetype": "text/x-python",
   "name": "python",
   "nbconvert_exporter": "python",
   "pygments_lexer": "ipython3",
   "version": "3.7.7"
  }
 },
 "nbformat": 4,
 "nbformat_minor": 4
}
