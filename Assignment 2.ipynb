{
 "cells": [
  {
   "cell_type": "markdown",
   "metadata": {},
   "source": [
    "#### Problem 1\n",
    "Write a Python program to convert kilometers to miles?"
   ]
  },
  {
   "cell_type": "code",
   "execution_count": 1,
   "metadata": {},
   "outputs": [
    {
     "name": "stdout",
     "output_type": "stream",
     "text": [
      "Enter a value::2.3\n",
      "The value in miles is :: 1.42922 miles\n"
     ]
    }
   ],
   "source": [
    "user_input = float(input(\"Enter a value::\"))\n",
    "miles = user_input*0.6214\n",
    "print(\"The value in miles is :: {} miles\".format(round(miles,5)))"
   ]
  },
  {
   "cell_type": "markdown",
   "metadata": {},
   "source": [
    "#### Problem 2\n",
    "Write a Python program to convert Celsius to Fahrenheit?"
   ]
  },
  {
   "cell_type": "code",
   "execution_count": 2,
   "metadata": {},
   "outputs": [
    {
     "name": "stdout",
     "output_type": "stream",
     "text": [
      "Enter a value::32\n",
      "The value in fahrenheit is 89.6°F\n"
     ]
    }
   ],
   "source": [
    "user_input = float(input(\"Enter a value::\"))\n",
    "fahrenheit = user_input*(9/5) + 32\n",
    "print(\"The value in fahrenheit is {}°F\".format(fahrenheit))"
   ]
  },
  {
   "cell_type": "markdown",
   "metadata": {},
   "source": [
    "#### Problem 3\n",
    "Write a Python program to display calendar?"
   ]
  },
  {
   "cell_type": "code",
   "execution_count": 4,
   "metadata": {},
   "outputs": [
    {
     "name": "stdout",
     "output_type": "stream",
     "text": [
      "Enter year :: 2019\n",
      "Enter month :: 12\n",
      "   December 2019\n",
      "Mo Tu We Th Fr Sa Su\n",
      "                   1\n",
      " 2  3  4  5  6  7  8\n",
      " 9 10 11 12 13 14 15\n",
      "16 17 18 19 20 21 22\n",
      "23 24 25 26 27 28 29\n",
      "30 31\n",
      "\n"
     ]
    }
   ],
   "source": [
    "import calendar\n",
    "\n",
    "year = int(input(\"Enter year :: \"))\n",
    "month = int(input(\"Enter month :: \"))\n",
    "\n",
    "print(calendar.month(year, month))"
   ]
  },
  {
   "cell_type": "markdown",
   "metadata": {},
   "source": [
    "#### Problem 4\n",
    "Write a Python program to solve quadratic equation?"
   ]
  },
  {
   "cell_type": "code",
   "execution_count": 7,
   "metadata": {},
   "outputs": [
    {
     "name": "stdout",
     "output_type": "stream",
     "text": [
      "Enter the coefficient x^2 ::1\n",
      "Enter the coefficient x :: 5\n",
      "Enter the value :: 6\n",
      "The roots of equation 1.0x^2+5.0x+6.0 is (-3+0j), (-2+0j)\n"
     ]
    }
   ],
   "source": [
    "a = float(input(\"Enter the coefficient x^2 ::\"))\n",
    "b = float(input(\"Enter the coefficient x :: \"))\n",
    "c = float(input(\"Enter the value :: \"))\n",
    "\n",
    "#discriminant\n",
    "d = b**2 - 4*a*c\n",
    "\n",
    "#two solutions\n",
    "pos_value = complex(-b-(d**(0.5)))/(2*a)\n",
    "neg_value = complex(-b+(d**(0.5)))/(2*a)\n",
    "\n",
    "print(\"The roots of equation {}x^2+{}x+{} is {}, {}\".format(a,b,c,pos_value,neg_value))"
   ]
  },
  {
   "cell_type": "markdown",
   "metadata": {},
   "source": [
    "#### Problem 5\n",
    "Write a Python program to swap two variables without temp variable?"
   ]
  },
  {
   "cell_type": "code",
   "execution_count": 8,
   "metadata": {},
   "outputs": [
    {
     "name": "stdout",
     "output_type": "stream",
     "text": [
      "Enter a value ::3\n",
      "Enter a value ::5\n",
      "Before swaping a=3 and b=5\n",
      "After swaping a=5 and b=3\n"
     ]
    }
   ],
   "source": [
    "a = int(input(\"Enter a value ::\"))\n",
    "b = int(input(\"Enter a value ::\"))\n",
    "\n",
    "print(\"Before swaping a={} and b={}\".format(a,b))\n",
    "\n",
    "a = a+b\n",
    "b = a-b\n",
    "a = a-b\n",
    "\n",
    "print(\"After swaping a={} and b={}\".format(a,b))"
   ]
  }
 ],
 "metadata": {
  "kernelspec": {
   "display_name": "Python 3",
   "language": "python",
   "name": "python3"
  },
  "language_info": {
   "codemirror_mode": {
    "name": "ipython",
    "version": 3
   },
   "file_extension": ".py",
   "mimetype": "text/x-python",
   "name": "python",
   "nbconvert_exporter": "python",
   "pygments_lexer": "ipython3",
   "version": "3.7.7"
  }
 },
 "nbformat": 4,
 "nbformat_minor": 4
}
