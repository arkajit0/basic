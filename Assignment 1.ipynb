{
 "cells": [
  {
   "cell_type": "markdown",
   "metadata": {},
   "source": [
    "#### Problem 1\n",
    "Write a Python program to print &quot;Hello Python&quot;?"
   ]
  },
  {
   "cell_type": "code",
   "execution_count": 1,
   "metadata": {},
   "outputs": [
    {
     "name": "stdout",
     "output_type": "stream",
     "text": [
      "Enter value ::hello python\n",
      "Hello python\n"
     ]
    }
   ],
   "source": [
    "user_input = input(\"Enter value ::\")\n",
    "print(user_input.capitalize())"
   ]
  },
  {
   "cell_type": "markdown",
   "metadata": {},
   "source": [
    "#### Problem 2\n",
    "Write a Python program to do arithmetical operations addition and division.?"
   ]
  },
  {
   "cell_type": "code",
   "execution_count": 2,
   "metadata": {},
   "outputs": [
    {
     "name": "stdout",
     "output_type": "stream",
     "text": [
      "Enter a value ::3\n",
      "Enter a value ::5\n",
      "Addition::\n",
      "8\n",
      "Division::\n",
      "0.6\n"
     ]
    }
   ],
   "source": [
    "user_input1 = int(input(\"Enter a value ::\"))\n",
    "user_input2 = int(input(\"Enter a value ::\"))\n",
    "print(\"Addition::\")\n",
    "print(user_input1+user_input2)\n",
    "print(\"Division::\")\n",
    "print(user_input1/user_input2)"
   ]
  },
  {
   "cell_type": "markdown",
   "metadata": {},
   "source": [
    "#### Problem 3\n",
    "Write a Python program to find the area of a triangle?"
   ]
  },
  {
   "cell_type": "code",
   "execution_count": 3,
   "metadata": {},
   "outputs": [
    {
     "name": "stdout",
     "output_type": "stream",
     "text": [
      "Enter a value ::3\n",
      "Enter a value ::5\n",
      "Enter a value ::7\n",
      "The Area of triangle is :: 6.5\n"
     ]
    }
   ],
   "source": [
    "side1 = int(input(\"Enter a value ::\"))\n",
    "side2 = int(input(\"Enter a value ::\"))\n",
    "side3 = int(input(\"Enter a value ::\"))\n",
    "\n",
    "if (side1<=0 or side2<=0 or side3<=0 or (side1+side2<=side3) or (side3+side2<=side1) or (side1+side3<=side2)):\n",
    "    print(\"invalid triangle\")\n",
    "else:\n",
    "    semi_perimeter = (side1+side2+side3)/2\n",
    "\n",
    "    area = (semi_perimeter*(semi_perimeter-side1)*(semi_perimeter-side2)*(semi_perimeter-side3))**(0.5)\n",
    "    print(\"The Area of triangle is :: {}\".format(round(area,2)))"
   ]
  },
  {
   "cell_type": "markdown",
   "metadata": {},
   "source": [
    "#### Problem 4\n",
    "Write a Python program to swap two variables?"
   ]
  },
  {
   "cell_type": "code",
   "execution_count": 4,
   "metadata": {},
   "outputs": [
    {
     "name": "stdout",
     "output_type": "stream",
     "text": [
      "Enter a value ::3\n",
      "Enter a value ::5\n",
      "Before swaping a=3 and b=5\n",
      "After swaping a=5 and b=3\n"
     ]
    }
   ],
   "source": [
    "a = int(input(\"Enter a value ::\"))\n",
    "b = int(input(\"Enter a value ::\"))\n",
    "\n",
    "print(\"Before swaping a={} and b={}\".format(a,b))\n",
    "a, b = b, a\n",
    "print(\"After swaping a={} and b={}\".format(a,b))"
   ]
  },
  {
   "cell_type": "markdown",
   "metadata": {},
   "source": [
    "#### Problem 5\n",
    "Write a Python program to generate a random number?"
   ]
  },
  {
   "cell_type": "code",
   "execution_count": 5,
   "metadata": {},
   "outputs": [
    {
     "name": "stdout",
     "output_type": "stream",
     "text": [
      "0.9937511165180657\n"
     ]
    }
   ],
   "source": [
    "import random\n",
    "\n",
    "print(random.random())"
   ]
  }
 ],
 "metadata": {
  "kernelspec": {
   "display_name": "Python 3",
   "language": "python",
   "name": "python3"
  },
  "language_info": {
   "codemirror_mode": {
    "name": "ipython",
    "version": 3
   },
   "file_extension": ".py",
   "mimetype": "text/x-python",
   "name": "python",
   "nbconvert_exporter": "python",
   "pygments_lexer": "ipython3",
   "version": "3.7.7"
  }
 },
 "nbformat": 4,
 "nbformat_minor": 4
}
